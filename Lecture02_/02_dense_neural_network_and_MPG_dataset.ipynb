{
  "nbformat": 4,
  "nbformat_minor": 0,
  "metadata": {
    "colab": {
      "name": "Copy of 02_dense_neural_network_and_MPG_dataset.ipynb",
      "provenance": [],
      "collapsed_sections": [],
      "include_colab_link": true
    },
    "kernelspec": {
      "name": "python3",
      "display_name": "Python 3"
    }
  },
  "cells": [
    {
      "cell_type": "markdown",
      "metadata": {
        "id": "view-in-github",
        "colab_type": "text"
      },
      "source": [
        "<a href=\"https://colab.research.google.com/github/krcjaro/DS-practicum-2020/blob/master/Lecture02_/02_dense_neural_network_and_MPG_dataset.ipynb\" target=\"_parent\"><img src=\"https://colab.research.google.com/assets/colab-badge.svg\" alt=\"Open In Colab\"/></a>"
      ]
    },
    {
      "cell_type": "code",
      "metadata": {
        "id": "LT5sifRq0Ls1",
        "outputId": "b21b1cbb-637a-407f-cdee-1ec7519b2d25",
        "colab": {
          "base_uri": "https://localhost:8080/",
          "height": 35
        }
      },
      "source": [
        "import matplotlib.pyplot as plt\n",
        "import numpy as np\n",
        "import pandas as pd\n",
        "import seaborn as sns\n",
        "\n",
        "import tensorflow as tf\n",
        "from tensorflow import keras\n",
        "from tensorflow.keras import layers\n",
        "from tensorflow.keras.layers.experimental import preprocessing\n",
        "\n",
        "print(tf.__version__)"
      ],
      "execution_count": null,
      "outputs": [
        {
          "output_type": "stream",
          "text": [
            "2.3.0\n"
          ],
          "name": "stdout"
        }
      ]
    },
    {
      "cell_type": "markdown",
      "metadata": {
        "id": "PdrvaJb71hdd"
      },
      "source": [
        "## Data"
      ]
    },
    {
      "cell_type": "code",
      "metadata": {
        "id": "qnpPTuRn1XXx",
        "outputId": "85eb40a0-d067-4385-c4ed-d5c21fa52cbe",
        "colab": {
          "base_uri": "https://localhost:8080/",
          "height": 198
        }
      },
      "source": [
        "url = 'http://archive.ics.uci.edu/ml/machine-learning-databases/auto-mpg/auto-mpg.data'\n",
        "column_names = ['MPG', 'Cylinders', 'Displacement', 'Horsepower', 'Weight',\n",
        "                'Acceleration', 'Model Year', 'Origin']\n",
        "\n",
        "raw_dataset = pd.read_csv(url, names=column_names,\n",
        "                          na_values='?', comment='\\t',\n",
        "                          sep=' ', skipinitialspace=True)\n",
        "\n",
        "dataset = raw_dataset.copy()\n",
        "\n",
        "# because of missing values in the Horsepower column\n",
        "dataset = dataset.dropna()\n",
        "\n",
        "dataset.tail()"
      ],
      "execution_count": null,
      "outputs": [
        {
          "output_type": "execute_result",
          "data": {
            "text/html": [
              "<div>\n",
              "<style scoped>\n",
              "    .dataframe tbody tr th:only-of-type {\n",
              "        vertical-align: middle;\n",
              "    }\n",
              "\n",
              "    .dataframe tbody tr th {\n",
              "        vertical-align: top;\n",
              "    }\n",
              "\n",
              "    .dataframe thead th {\n",
              "        text-align: right;\n",
              "    }\n",
              "</style>\n",
              "<table border=\"1\" class=\"dataframe\">\n",
              "  <thead>\n",
              "    <tr style=\"text-align: right;\">\n",
              "      <th></th>\n",
              "      <th>MPG</th>\n",
              "      <th>Cylinders</th>\n",
              "      <th>Displacement</th>\n",
              "      <th>Horsepower</th>\n",
              "      <th>Weight</th>\n",
              "      <th>Acceleration</th>\n",
              "      <th>Model Year</th>\n",
              "      <th>Origin</th>\n",
              "    </tr>\n",
              "  </thead>\n",
              "  <tbody>\n",
              "    <tr>\n",
              "      <th>393</th>\n",
              "      <td>27.0</td>\n",
              "      <td>4</td>\n",
              "      <td>140.0</td>\n",
              "      <td>86.0</td>\n",
              "      <td>2790.0</td>\n",
              "      <td>15.6</td>\n",
              "      <td>82</td>\n",
              "      <td>1</td>\n",
              "    </tr>\n",
              "    <tr>\n",
              "      <th>394</th>\n",
              "      <td>44.0</td>\n",
              "      <td>4</td>\n",
              "      <td>97.0</td>\n",
              "      <td>52.0</td>\n",
              "      <td>2130.0</td>\n",
              "      <td>24.6</td>\n",
              "      <td>82</td>\n",
              "      <td>2</td>\n",
              "    </tr>\n",
              "    <tr>\n",
              "      <th>395</th>\n",
              "      <td>32.0</td>\n",
              "      <td>4</td>\n",
              "      <td>135.0</td>\n",
              "      <td>84.0</td>\n",
              "      <td>2295.0</td>\n",
              "      <td>11.6</td>\n",
              "      <td>82</td>\n",
              "      <td>1</td>\n",
              "    </tr>\n",
              "    <tr>\n",
              "      <th>396</th>\n",
              "      <td>28.0</td>\n",
              "      <td>4</td>\n",
              "      <td>120.0</td>\n",
              "      <td>79.0</td>\n",
              "      <td>2625.0</td>\n",
              "      <td>18.6</td>\n",
              "      <td>82</td>\n",
              "      <td>1</td>\n",
              "    </tr>\n",
              "    <tr>\n",
              "      <th>397</th>\n",
              "      <td>31.0</td>\n",
              "      <td>4</td>\n",
              "      <td>119.0</td>\n",
              "      <td>82.0</td>\n",
              "      <td>2720.0</td>\n",
              "      <td>19.4</td>\n",
              "      <td>82</td>\n",
              "      <td>1</td>\n",
              "    </tr>\n",
              "  </tbody>\n",
              "</table>\n",
              "</div>"
            ],
            "text/plain": [
              "      MPG  Cylinders  Displacement  ...  Acceleration  Model Year  Origin\n",
              "393  27.0          4         140.0  ...          15.6          82       1\n",
              "394  44.0          4          97.0  ...          24.6          82       2\n",
              "395  32.0          4         135.0  ...          11.6          82       1\n",
              "396  28.0          4         120.0  ...          18.6          82       1\n",
              "397  31.0          4         119.0  ...          19.4          82       1\n",
              "\n",
              "[5 rows x 8 columns]"
            ]
          },
          "metadata": {
            "tags": []
          },
          "execution_count": 2
        }
      ]
    },
    {
      "cell_type": "code",
      "metadata": {
        "id": "2b96d06tKnh2",
        "outputId": "957f6b7c-9327-46e2-d966-e0d0adee41c7",
        "colab": {
          "base_uri": "https://localhost:8080/",
          "height": 198
        }
      },
      "source": [
        "# one-hot encoding\n",
        "dataset['Origin'] = dataset['Origin'].map({1: 'USA', 2: 'Europe', 3: 'Japan'})\n",
        "dataset = pd.get_dummies(dataset, prefix='', prefix_sep='')\n",
        "\n",
        "dataset.tail()"
      ],
      "execution_count": null,
      "outputs": [
        {
          "output_type": "execute_result",
          "data": {
            "text/html": [
              "<div>\n",
              "<style scoped>\n",
              "    .dataframe tbody tr th:only-of-type {\n",
              "        vertical-align: middle;\n",
              "    }\n",
              "\n",
              "    .dataframe tbody tr th {\n",
              "        vertical-align: top;\n",
              "    }\n",
              "\n",
              "    .dataframe thead th {\n",
              "        text-align: right;\n",
              "    }\n",
              "</style>\n",
              "<table border=\"1\" class=\"dataframe\">\n",
              "  <thead>\n",
              "    <tr style=\"text-align: right;\">\n",
              "      <th></th>\n",
              "      <th>MPG</th>\n",
              "      <th>Cylinders</th>\n",
              "      <th>Displacement</th>\n",
              "      <th>Horsepower</th>\n",
              "      <th>Weight</th>\n",
              "      <th>Acceleration</th>\n",
              "      <th>Model Year</th>\n",
              "      <th>Europe</th>\n",
              "      <th>Japan</th>\n",
              "      <th>USA</th>\n",
              "    </tr>\n",
              "  </thead>\n",
              "  <tbody>\n",
              "    <tr>\n",
              "      <th>393</th>\n",
              "      <td>27.0</td>\n",
              "      <td>4</td>\n",
              "      <td>140.0</td>\n",
              "      <td>86.0</td>\n",
              "      <td>2790.0</td>\n",
              "      <td>15.6</td>\n",
              "      <td>82</td>\n",
              "      <td>0</td>\n",
              "      <td>0</td>\n",
              "      <td>1</td>\n",
              "    </tr>\n",
              "    <tr>\n",
              "      <th>394</th>\n",
              "      <td>44.0</td>\n",
              "      <td>4</td>\n",
              "      <td>97.0</td>\n",
              "      <td>52.0</td>\n",
              "      <td>2130.0</td>\n",
              "      <td>24.6</td>\n",
              "      <td>82</td>\n",
              "      <td>1</td>\n",
              "      <td>0</td>\n",
              "      <td>0</td>\n",
              "    </tr>\n",
              "    <tr>\n",
              "      <th>395</th>\n",
              "      <td>32.0</td>\n",
              "      <td>4</td>\n",
              "      <td>135.0</td>\n",
              "      <td>84.0</td>\n",
              "      <td>2295.0</td>\n",
              "      <td>11.6</td>\n",
              "      <td>82</td>\n",
              "      <td>0</td>\n",
              "      <td>0</td>\n",
              "      <td>1</td>\n",
              "    </tr>\n",
              "    <tr>\n",
              "      <th>396</th>\n",
              "      <td>28.0</td>\n",
              "      <td>4</td>\n",
              "      <td>120.0</td>\n",
              "      <td>79.0</td>\n",
              "      <td>2625.0</td>\n",
              "      <td>18.6</td>\n",
              "      <td>82</td>\n",
              "      <td>0</td>\n",
              "      <td>0</td>\n",
              "      <td>1</td>\n",
              "    </tr>\n",
              "    <tr>\n",
              "      <th>397</th>\n",
              "      <td>31.0</td>\n",
              "      <td>4</td>\n",
              "      <td>119.0</td>\n",
              "      <td>82.0</td>\n",
              "      <td>2720.0</td>\n",
              "      <td>19.4</td>\n",
              "      <td>82</td>\n",
              "      <td>0</td>\n",
              "      <td>0</td>\n",
              "      <td>1</td>\n",
              "    </tr>\n",
              "  </tbody>\n",
              "</table>\n",
              "</div>"
            ],
            "text/plain": [
              "      MPG  Cylinders  Displacement  Horsepower  ...  Model Year  Europe  Japan  USA\n",
              "393  27.0          4         140.0        86.0  ...          82       0      0    1\n",
              "394  44.0          4          97.0        52.0  ...          82       1      0    0\n",
              "395  32.0          4         135.0        84.0  ...          82       0      0    1\n",
              "396  28.0          4         120.0        79.0  ...          82       0      0    1\n",
              "397  31.0          4         119.0        82.0  ...          82       0      0    1\n",
              "\n",
              "[5 rows x 10 columns]"
            ]
          },
          "metadata": {
            "tags": []
          },
          "execution_count": 3
        }
      ]
    },
    {
      "cell_type": "code",
      "metadata": {
        "id": "mePCThzZ5B1_",
        "outputId": "4d17dc7f-a1e4-4650-b56e-3ed613f9f3a4",
        "colab": {
          "base_uri": "https://localhost:8080/",
          "height": 35
        }
      },
      "source": [
        "# split the dataset into two parts (train & test)\n",
        "train_dataset = dataset.sample(frac=0.8, random_state=42)\n",
        "test_dataset = dataset.drop(train_dataset.index)\n",
        "\n",
        "train_dataset.shape, test_dataset.shape"
      ],
      "execution_count": null,
      "outputs": [
        {
          "output_type": "execute_result",
          "data": {
            "text/plain": [
              "((314, 10), (78, 10))"
            ]
          },
          "metadata": {
            "tags": []
          },
          "execution_count": 4
        }
      ]
    },
    {
      "cell_type": "code",
      "metadata": {
        "id": "ZVedC4YQ5mTI",
        "outputId": "29305740-03da-484a-e36b-f099fdf32edd",
        "colab": {
          "base_uri": "https://localhost:8080/",
          "height": 35
        }
      },
      "source": [
        "# separate label column from the data\n",
        "train_features = train_dataset.copy()\n",
        "test_features = test_dataset.copy()\n",
        "\n",
        "train_labels = train_features.pop('MPG')\n",
        "test_labels = test_features.pop('MPG')\n",
        "\n",
        "train_features.shape, test_features.shape, train_labels.shape, test_labels.shape"
      ],
      "execution_count": null,
      "outputs": [
        {
          "output_type": "execute_result",
          "data": {
            "text/plain": [
              "((314, 9), (78, 9), (314,), (78,))"
            ]
          },
          "metadata": {
            "tags": []
          },
          "execution_count": 5
        }
      ]
    },
    {
      "cell_type": "markdown",
      "metadata": {
        "id": "D3MxoHdsH2QD"
      },
      "source": [
        "## Predict MPG (miles per gallon) from Horsepower using DNN"
      ]
    },
    {
      "cell_type": "code",
      "metadata": {
        "id": "QdvQQDu8IH28"
      },
      "source": [
        "# normalizer\n",
        "horsepower = np.array(train_features['Horsepower'])\n",
        "horsepower_normalizer = preprocessing.Normalization(input_shape=[1,])\n",
        "horsepower_normalizer.adapt(horsepower)"
      ],
      "execution_count": null,
      "outputs": []
    },
    {
      "cell_type": "code",
      "metadata": {
        "id": "L0f2YrelISsZ"
      },
      "source": [
        "# model definition\n",
        "dnn_horsepower_model = keras.Sequential([\n",
        "      horsepower_normalizer,\n",
        "      layers.Dense(64, activation='relu'),\n",
        "      layers.Dense(64, activation='relu'),\n",
        "      layers.Dense(1)\n",
        "])\n",
        "\n",
        "dnn_horsepower_model.compile(loss='mean_absolute_error', optimizer=tf.keras.optimizers.Adam(0.001))"
      ],
      "execution_count": null,
      "outputs": []
    },
    {
      "cell_type": "code",
      "metadata": {
        "id": "4SUl2bwqI7iC",
        "outputId": "4ab8d67d-dbb4-4cd1-bb1d-20bc4359b513",
        "colab": {
          "base_uri": "https://localhost:8080/",
          "height": 308
        }
      },
      "source": [
        "dnn_horsepower_model.summary()"
      ],
      "execution_count": null,
      "outputs": [
        {
          "output_type": "stream",
          "text": [
            "Model: \"sequential\"\n",
            "_________________________________________________________________\n",
            "Layer (type)                 Output Shape              Param #   \n",
            "=================================================================\n",
            "normalization_1 (Normalizati (None, 1)                 3         \n",
            "_________________________________________________________________\n",
            "dense (Dense)                (None, 64)                128       \n",
            "_________________________________________________________________\n",
            "dense_1 (Dense)              (None, 64)                4160      \n",
            "_________________________________________________________________\n",
            "dense_2 (Dense)              (None, 1)                 65        \n",
            "=================================================================\n",
            "Total params: 4,356\n",
            "Trainable params: 4,353\n",
            "Non-trainable params: 3\n",
            "_________________________________________________________________\n"
          ],
          "name": "stdout"
        }
      ]
    },
    {
      "cell_type": "code",
      "metadata": {
        "id": "rlQUhCyBJMck",
        "outputId": "2d3b7cba-5b91-4395-93b5-82ef88109770",
        "colab": {
          "base_uri": "https://localhost:8080/",
          "height": 1000
        }
      },
      "source": [
        "%%time\n",
        "history = dnn_horsepower_model.fit(\n",
        "    train_features['Horsepower'], train_labels,\n",
        "    validation_split=0.2,\n",
        "    epochs=100)"
      ],
      "execution_count": null,
      "outputs": [
        {
          "output_type": "stream",
          "text": [
            "Epoch 1/100\n",
            "8/8 [==============================] - 0s 18ms/step - loss: 23.2804 - val_loss: 21.8829\n",
            "Epoch 2/100\n",
            "8/8 [==============================] - 0s 3ms/step - loss: 23.0700 - val_loss: 21.6547\n",
            "Epoch 3/100\n",
            "8/8 [==============================] - 0s 3ms/step - loss: 22.8292 - val_loss: 21.3737\n",
            "Epoch 4/100\n",
            "8/8 [==============================] - 0s 4ms/step - loss: 22.5191 - val_loss: 21.0031\n",
            "Epoch 5/100\n",
            "8/8 [==============================] - 0s 3ms/step - loss: 22.1125 - val_loss: 20.5059\n",
            "Epoch 6/100\n",
            "8/8 [==============================] - 0s 3ms/step - loss: 21.5746 - val_loss: 19.8592\n",
            "Epoch 7/100\n",
            "8/8 [==============================] - 0s 3ms/step - loss: 20.8610 - val_loss: 19.0304\n",
            "Epoch 8/100\n",
            "8/8 [==============================] - 0s 4ms/step - loss: 19.9639 - val_loss: 17.9566\n",
            "Epoch 9/100\n",
            "8/8 [==============================] - 0s 4ms/step - loss: 18.8351 - val_loss: 16.7881\n",
            "Epoch 10/100\n",
            "8/8 [==============================] - 0s 4ms/step - loss: 17.5850 - val_loss: 15.5340\n",
            "Epoch 11/100\n",
            "8/8 [==============================] - 0s 4ms/step - loss: 16.2189 - val_loss: 14.1489\n",
            "Epoch 12/100\n",
            "8/8 [==============================] - 0s 4ms/step - loss: 14.6743 - val_loss: 12.6876\n",
            "Epoch 13/100\n",
            "8/8 [==============================] - 0s 3ms/step - loss: 13.0019 - val_loss: 10.9993\n",
            "Epoch 14/100\n",
            "8/8 [==============================] - 0s 3ms/step - loss: 10.9865 - val_loss: 9.1900\n",
            "Epoch 15/100\n",
            "8/8 [==============================] - 0s 3ms/step - loss: 8.8000 - val_loss: 7.0735\n",
            "Epoch 16/100\n",
            "8/8 [==============================] - 0s 3ms/step - loss: 6.4550 - val_loss: 5.0725\n",
            "Epoch 17/100\n",
            "8/8 [==============================] - 0s 3ms/step - loss: 4.6994 - val_loss: 3.9446\n",
            "Epoch 18/100\n",
            "8/8 [==============================] - 0s 3ms/step - loss: 4.3114 - val_loss: 3.5967\n",
            "Epoch 19/100\n",
            "8/8 [==============================] - 0s 3ms/step - loss: 4.1875 - val_loss: 3.4223\n",
            "Epoch 20/100\n",
            "8/8 [==============================] - 0s 3ms/step - loss: 4.0139 - val_loss: 3.3800\n",
            "Epoch 21/100\n",
            "8/8 [==============================] - 0s 3ms/step - loss: 3.9783 - val_loss: 3.4671\n",
            "Epoch 22/100\n",
            "8/8 [==============================] - 0s 3ms/step - loss: 3.9603 - val_loss: 3.4508\n",
            "Epoch 23/100\n",
            "8/8 [==============================] - 0s 3ms/step - loss: 3.8869 - val_loss: 3.3455\n",
            "Epoch 24/100\n",
            "8/8 [==============================] - 0s 3ms/step - loss: 3.8319 - val_loss: 3.3041\n",
            "Epoch 25/100\n",
            "8/8 [==============================] - 0s 3ms/step - loss: 3.8002 - val_loss: 3.2890\n",
            "Epoch 26/100\n",
            "8/8 [==============================] - 0s 3ms/step - loss: 3.7478 - val_loss: 3.2678\n",
            "Epoch 27/100\n",
            "8/8 [==============================] - 0s 3ms/step - loss: 3.7235 - val_loss: 3.2878\n",
            "Epoch 28/100\n",
            "8/8 [==============================] - 0s 3ms/step - loss: 3.6910 - val_loss: 3.2696\n",
            "Epoch 29/100\n",
            "8/8 [==============================] - 0s 3ms/step - loss: 3.6642 - val_loss: 3.2563\n",
            "Epoch 30/100\n",
            "8/8 [==============================] - 0s 3ms/step - loss: 3.6406 - val_loss: 3.2382\n",
            "Epoch 31/100\n",
            "8/8 [==============================] - 0s 3ms/step - loss: 3.6220 - val_loss: 3.2219\n",
            "Epoch 32/100\n",
            "8/8 [==============================] - 0s 4ms/step - loss: 3.6000 - val_loss: 3.2424\n",
            "Epoch 33/100\n",
            "8/8 [==============================] - 0s 3ms/step - loss: 3.5854 - val_loss: 3.1928\n",
            "Epoch 34/100\n",
            "8/8 [==============================] - 0s 3ms/step - loss: 3.5634 - val_loss: 3.1794\n",
            "Epoch 35/100\n",
            "8/8 [==============================] - 0s 3ms/step - loss: 3.5458 - val_loss: 3.1533\n",
            "Epoch 36/100\n",
            "8/8 [==============================] - 0s 3ms/step - loss: 3.5318 - val_loss: 3.1604\n",
            "Epoch 37/100\n",
            "8/8 [==============================] - 0s 3ms/step - loss: 3.5115 - val_loss: 3.0797\n",
            "Epoch 38/100\n",
            "8/8 [==============================] - 0s 3ms/step - loss: 3.5034 - val_loss: 3.0423\n",
            "Epoch 39/100\n",
            "8/8 [==============================] - 0s 3ms/step - loss: 3.4838 - val_loss: 3.0673\n",
            "Epoch 40/100\n",
            "8/8 [==============================] - 0s 3ms/step - loss: 3.4774 - val_loss: 3.0923\n",
            "Epoch 41/100\n",
            "8/8 [==============================] - 0s 3ms/step - loss: 3.4529 - val_loss: 3.0230\n",
            "Epoch 42/100\n",
            "8/8 [==============================] - 0s 3ms/step - loss: 3.4372 - val_loss: 3.0223\n",
            "Epoch 43/100\n",
            "8/8 [==============================] - 0s 3ms/step - loss: 3.4265 - val_loss: 2.9946\n",
            "Epoch 44/100\n",
            "8/8 [==============================] - 0s 3ms/step - loss: 3.4081 - val_loss: 3.0051\n",
            "Epoch 45/100\n",
            "8/8 [==============================] - 0s 3ms/step - loss: 3.4072 - val_loss: 2.9960\n",
            "Epoch 46/100\n",
            "8/8 [==============================] - 0s 4ms/step - loss: 3.3867 - val_loss: 2.9604\n",
            "Epoch 47/100\n",
            "8/8 [==============================] - 0s 4ms/step - loss: 3.3826 - val_loss: 2.9294\n",
            "Epoch 48/100\n",
            "8/8 [==============================] - 0s 4ms/step - loss: 3.3805 - val_loss: 2.9399\n",
            "Epoch 49/100\n",
            "8/8 [==============================] - 0s 4ms/step - loss: 3.3697 - val_loss: 2.9197\n",
            "Epoch 50/100\n",
            "8/8 [==============================] - 0s 3ms/step - loss: 3.3751 - val_loss: 2.9032\n",
            "Epoch 51/100\n",
            "8/8 [==============================] - 0s 3ms/step - loss: 3.3685 - val_loss: 2.8821\n",
            "Epoch 52/100\n",
            "8/8 [==============================] - 0s 3ms/step - loss: 3.3676 - val_loss: 2.9261\n",
            "Epoch 53/100\n",
            "8/8 [==============================] - 0s 3ms/step - loss: 3.3626 - val_loss: 2.9134\n",
            "Epoch 54/100\n",
            "8/8 [==============================] - 0s 4ms/step - loss: 3.3631 - val_loss: 2.8895\n",
            "Epoch 55/100\n",
            "8/8 [==============================] - 0s 3ms/step - loss: 3.3571 - val_loss: 2.8566\n",
            "Epoch 56/100\n",
            "8/8 [==============================] - 0s 3ms/step - loss: 3.3704 - val_loss: 2.8655\n",
            "Epoch 57/100\n",
            "8/8 [==============================] - 0s 3ms/step - loss: 3.3485 - val_loss: 2.8681\n",
            "Epoch 58/100\n",
            "8/8 [==============================] - 0s 3ms/step - loss: 3.3510 - val_loss: 2.8744\n",
            "Epoch 59/100\n",
            "8/8 [==============================] - 0s 3ms/step - loss: 3.3472 - val_loss: 2.8738\n",
            "Epoch 60/100\n",
            "8/8 [==============================] - 0s 3ms/step - loss: 3.3468 - val_loss: 2.8478\n",
            "Epoch 61/100\n",
            "8/8 [==============================] - 0s 3ms/step - loss: 3.3744 - val_loss: 2.8832\n",
            "Epoch 62/100\n",
            "8/8 [==============================] - 0s 3ms/step - loss: 3.3511 - val_loss: 2.8714\n",
            "Epoch 63/100\n",
            "8/8 [==============================] - 0s 3ms/step - loss: 3.3524 - val_loss: 2.8229\n",
            "Epoch 64/100\n",
            "8/8 [==============================] - 0s 4ms/step - loss: 3.3426 - val_loss: 2.8373\n",
            "Epoch 65/100\n",
            "8/8 [==============================] - 0s 3ms/step - loss: 3.3430 - val_loss: 2.8604\n",
            "Epoch 66/100\n",
            "8/8 [==============================] - 0s 3ms/step - loss: 3.3411 - val_loss: 2.8649\n",
            "Epoch 67/100\n",
            "8/8 [==============================] - 0s 3ms/step - loss: 3.3442 - val_loss: 2.8799\n",
            "Epoch 68/100\n",
            "8/8 [==============================] - 0s 4ms/step - loss: 3.3447 - val_loss: 2.8398\n",
            "Epoch 69/100\n",
            "8/8 [==============================] - 0s 4ms/step - loss: 3.3381 - val_loss: 2.8400\n",
            "Epoch 70/100\n",
            "8/8 [==============================] - 0s 3ms/step - loss: 3.3360 - val_loss: 2.8487\n",
            "Epoch 71/100\n",
            "8/8 [==============================] - 0s 4ms/step - loss: 3.3381 - val_loss: 2.8662\n",
            "Epoch 72/100\n",
            "8/8 [==============================] - 0s 3ms/step - loss: 3.3509 - val_loss: 2.8223\n",
            "Epoch 73/100\n",
            "8/8 [==============================] - 0s 3ms/step - loss: 3.3519 - val_loss: 2.8728\n",
            "Epoch 74/100\n",
            "8/8 [==============================] - 0s 3ms/step - loss: 3.3388 - val_loss: 2.8540\n",
            "Epoch 75/100\n",
            "8/8 [==============================] - 0s 3ms/step - loss: 3.3357 - val_loss: 2.8450\n",
            "Epoch 76/100\n",
            "8/8 [==============================] - 0s 3ms/step - loss: 3.3329 - val_loss: 2.8582\n",
            "Epoch 77/100\n",
            "8/8 [==============================] - 0s 3ms/step - loss: 3.3322 - val_loss: 2.8421\n",
            "Epoch 78/100\n",
            "8/8 [==============================] - 0s 3ms/step - loss: 3.3327 - val_loss: 2.8164\n",
            "Epoch 79/100\n",
            "8/8 [==============================] - 0s 3ms/step - loss: 3.3318 - val_loss: 2.8084\n",
            "Epoch 80/100\n",
            "8/8 [==============================] - 0s 3ms/step - loss: 3.3310 - val_loss: 2.8399\n",
            "Epoch 81/100\n",
            "8/8 [==============================] - 0s 3ms/step - loss: 3.3293 - val_loss: 2.8157\n",
            "Epoch 82/100\n",
            "8/8 [==============================] - 0s 3ms/step - loss: 3.3318 - val_loss: 2.8344\n",
            "Epoch 83/100\n",
            "8/8 [==============================] - 0s 4ms/step - loss: 3.3340 - val_loss: 2.8508\n",
            "Epoch 84/100\n",
            "8/8 [==============================] - 0s 4ms/step - loss: 3.3281 - val_loss: 2.8123\n",
            "Epoch 85/100\n",
            "8/8 [==============================] - 0s 4ms/step - loss: 3.3361 - val_loss: 2.8391\n",
            "Epoch 86/100\n",
            "8/8 [==============================] - 0s 4ms/step - loss: 3.3274 - val_loss: 2.8047\n",
            "Epoch 87/100\n",
            "8/8 [==============================] - 0s 4ms/step - loss: 3.3365 - val_loss: 2.8189\n",
            "Epoch 88/100\n",
            "8/8 [==============================] - 0s 3ms/step - loss: 3.3251 - val_loss: 2.8329\n",
            "Epoch 89/100\n",
            "8/8 [==============================] - 0s 3ms/step - loss: 3.3248 - val_loss: 2.7950\n",
            "Epoch 90/100\n",
            "8/8 [==============================] - 0s 4ms/step - loss: 3.3250 - val_loss: 2.8118\n",
            "Epoch 91/100\n",
            "8/8 [==============================] - 0s 3ms/step - loss: 3.3191 - val_loss: 2.8226\n",
            "Epoch 92/100\n",
            "8/8 [==============================] - 0s 3ms/step - loss: 3.3241 - val_loss: 2.7923\n",
            "Epoch 93/100\n",
            "8/8 [==============================] - 0s 3ms/step - loss: 3.3256 - val_loss: 2.7983\n",
            "Epoch 94/100\n",
            "8/8 [==============================] - 0s 5ms/step - loss: 3.3380 - val_loss: 2.8157\n",
            "Epoch 95/100\n",
            "8/8 [==============================] - 0s 3ms/step - loss: 3.3205 - val_loss: 2.7928\n",
            "Epoch 96/100\n",
            "8/8 [==============================] - 0s 4ms/step - loss: 3.3259 - val_loss: 2.7870\n",
            "Epoch 97/100\n",
            "8/8 [==============================] - 0s 4ms/step - loss: 3.3189 - val_loss: 2.8124\n",
            "Epoch 98/100\n",
            "8/8 [==============================] - 0s 3ms/step - loss: 3.3178 - val_loss: 2.8229\n",
            "Epoch 99/100\n",
            "8/8 [==============================] - 0s 3ms/step - loss: 3.3192 - val_loss: 2.8266\n",
            "Epoch 100/100\n",
            "8/8 [==============================] - 0s 3ms/step - loss: 3.3236 - val_loss: 2.7916\n",
            "CPU times: user 3.59 s, sys: 245 ms, total: 3.83 s\n",
            "Wall time: 4.1 s\n"
          ],
          "name": "stdout"
        }
      ]
    },
    {
      "cell_type": "code",
      "metadata": {
        "id": "jioPpNJ7JTaV",
        "outputId": "cf9cc4fd-a6dc-4d43-df63-20096fbfbee3",
        "colab": {
          "base_uri": "https://localhost:8080/",
          "height": 283
        }
      },
      "source": [
        "def plot_loss(history):\n",
        "  plt.plot(history.history['loss'], label='loss')\n",
        "  plt.plot(history.history['val_loss'], label='val_loss')\n",
        "  plt.ylim([0, 10])\n",
        "  plt.xlabel('Epoch')\n",
        "  plt.ylabel('Error [MPG]')\n",
        "  plt.legend()\n",
        "  plt.grid(True)\n",
        "\n",
        "plot_loss(history)"
      ],
      "execution_count": null,
      "outputs": [
        {
          "output_type": "display_data",
          "data": {
            "image/png": "[encoded data removed]",
            "text/plain": [
              "<Figure size 432x288 with 1 Axes>"
            ]
          },
          "metadata": {
            "tags": [],
            "needs_background": "light"
          }
        }
      ]
    },
    {
      "cell_type": "code",
      "metadata": {
        "id": "2S9kCZcYMRw8",
        "outputId": "70f07bed-7289-48bb-b622-cb6250d2e43c",
        "colab": {
          "base_uri": "https://localhost:8080/",
          "height": 279
        }
      },
      "source": [
        "x = tf.linspace(40, 250, 251)\n",
        "y = dnn_horsepower_model.predict(x)\n",
        "\n",
        "def plot_horsepower(x, y):\n",
        "  plt.scatter(train_features['Horsepower'], train_labels, label='Data')\n",
        "  plt.plot(x, y, color='k', label='Predictions')\n",
        "  plt.xlabel('Horsepower')\n",
        "  plt.ylabel('MPG')\n",
        "  plt.legend()\n",
        "\n",
        "plot_horsepower(x, y)"
      ],
      "execution_count": null,
      "outputs": [
        {
          "output_type": "display_data",
          "data": {
            "image/png": "[encoded data removed]",
            "text/plain": [
              "<Figure size 432x288 with 1 Axes>"
            ]
          },
          "metadata": {
            "tags": [],
            "needs_background": "light"
          }
        }
      ]
    }
  ]
}